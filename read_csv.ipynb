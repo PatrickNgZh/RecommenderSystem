{
 "cells": [
  {
   "cell_type": "code",
   "execution_count": 1,
   "metadata": {},
   "outputs": [],
   "source": [
    "import numpy as np\n",
    "import pandas as pd"
   ]
  },
  {
   "cell_type": "code",
   "execution_count": 5,
   "metadata": {},
   "outputs": [],
   "source": [
    "rank_list = pd.read_csv('ranklist.csv')\n",
    "play_list = pd.read_csv('playlist.csv')\n"
   ]
  },
  {
   "cell_type": "code",
   "execution_count": 3,
   "metadata": {},
   "outputs": [
    {
     "data": {
      "text/html": [
       "<div>\n",
       "<style scoped>\n",
       "    .dataframe tbody tr th:only-of-type {\n",
       "        vertical-align: middle;\n",
       "    }\n",
       "\n",
       "    .dataframe tbody tr th {\n",
       "        vertical-align: top;\n",
       "    }\n",
       "\n",
       "    .dataframe thead th {\n",
       "        text-align: right;\n",
       "    }\n",
       "</style>\n",
       "<table border=\"1\" class=\"dataframe\">\n",
       "  <thead>\n",
       "    <tr style=\"text-align: right;\">\n",
       "      <th></th>\n",
       "      <th>user_id</th>\n",
       "      <th>ranklist_id</th>\n",
       "      <th>song_id</th>\n",
       "      <th>song_name</th>\n",
       "      <th>song_tag</th>\n",
       "      <th>tag_count</th>\n",
       "    </tr>\n",
       "  </thead>\n",
       "  <tbody>\n",
       "    <tr>\n",
       "      <th>0</th>\n",
       "      <td>18114912</td>\n",
       "      <td>\\N</td>\n",
       "      <td>\\N</td>\n",
       "      <td>\\N</td>\n",
       "      <td>\\N</td>\n",
       "      <td>\\N</td>\n",
       "    </tr>\n",
       "    <tr>\n",
       "      <th>1</th>\n",
       "      <td>81033783</td>\n",
       "      <td>\\N</td>\n",
       "      <td>\\N</td>\n",
       "      <td>\\N</td>\n",
       "      <td>\\N</td>\n",
       "      <td>\\N</td>\n",
       "    </tr>\n",
       "    <tr>\n",
       "      <th>2</th>\n",
       "      <td>54749156</td>\n",
       "      <td>\\N</td>\n",
       "      <td>\\N</td>\n",
       "      <td>\\N</td>\n",
       "      <td>\\N</td>\n",
       "      <td>\\N</td>\n",
       "    </tr>\n",
       "    <tr>\n",
       "      <th>3</th>\n",
       "      <td>1313848989</td>\n",
       "      <td>1313848989r0</td>\n",
       "      <td>114369</td>\n",
       "      <td>最近</td>\n",
       "      <td>华语</td>\n",
       "      <td>1</td>\n",
       "    </tr>\n",
       "    <tr>\n",
       "      <th>4</th>\n",
       "      <td>1313848989</td>\n",
       "      <td>1313848989r0</td>\n",
       "      <td>114369</td>\n",
       "      <td>最近</td>\n",
       "      <td>流行</td>\n",
       "      <td>1</td>\n",
       "    </tr>\n",
       "  </tbody>\n",
       "</table>\n",
       "</div>"
      ],
      "text/plain": [
       "      user_id   ranklist_id song_id song_name song_tag tag_count\n",
       "0    18114912            \\N      \\N        \\N       \\N        \\N\n",
       "1    81033783            \\N      \\N        \\N       \\N        \\N\n",
       "2    54749156            \\N      \\N        \\N       \\N        \\N\n",
       "3  1313848989  1313848989r0  114369        最近       华语         1\n",
       "4  1313848989  1313848989r0  114369        最近       流行         1"
      ]
     },
     "execution_count": 3,
     "metadata": {},
     "output_type": "execute_result"
    }
   ],
   "source": [
    "ranklist.head()"
   ]
  },
  {
   "cell_type": "code",
   "execution_count": 9,
   "metadata": {},
   "outputs": [
    {
     "name": "stdout",
     "output_type": "stream",
     "text": [
      "<class 'pandas.core.frame.DataFrame'>\n",
      "RangeIndex: 158881 entries, 0 to 158880\n",
      "Data columns (total 6 columns):\n",
      " #   Column       Non-Null Count   Dtype \n",
      "---  ------       --------------   ----- \n",
      " 0   user_id      158881 non-null  int64 \n",
      " 1   ranklist_id  158881 non-null  object\n",
      " 2   song_id      158881 non-null  object\n",
      " 3   song_name    158331 non-null  object\n",
      " 4   song_tag     158881 non-null  object\n",
      " 5   tag_count    158881 non-null  object\n",
      "dtypes: int64(1), object(5)\n",
      "memory usage: 7.3+ MB\n"
     ]
    }
   ],
   "source": [
    "rank_list.info()"
   ]
  },
  {
   "cell_type": "code",
   "execution_count": 6,
   "metadata": {},
   "outputs": [
    {
     "data": {
      "text/html": [
       "<div>\n",
       "<style scoped>\n",
       "    .dataframe tbody tr th:only-of-type {\n",
       "        vertical-align: middle;\n",
       "    }\n",
       "\n",
       "    .dataframe tbody tr th {\n",
       "        vertical-align: top;\n",
       "    }\n",
       "\n",
       "    .dataframe thead th {\n",
       "        text-align: right;\n",
       "    }\n",
       "</style>\n",
       "<table border=\"1\" class=\"dataframe\">\n",
       "  <thead>\n",
       "    <tr style=\"text-align: right;\">\n",
       "      <th></th>\n",
       "      <th>user_id</th>\n",
       "      <th>playlist_id</th>\n",
       "      <th>playlist_name</th>\n",
       "      <th>tag_name</th>\n",
       "    </tr>\n",
       "  </thead>\n",
       "  <tbody>\n",
       "    <tr>\n",
       "      <th>0</th>\n",
       "      <td>18114912</td>\n",
       "      <td>2131272503</td>\n",
       "      <td>「 每个人的青春都有一个任贤齐」</td>\n",
       "      <td>华语</td>\n",
       "    </tr>\n",
       "    <tr>\n",
       "      <th>1</th>\n",
       "      <td>18114912</td>\n",
       "      <td>2131272503</td>\n",
       "      <td>「 每个人的青春都有一个任贤齐」</td>\n",
       "      <td>流行</td>\n",
       "    </tr>\n",
       "    <tr>\n",
       "      <th>2</th>\n",
       "      <td>18114912</td>\n",
       "      <td>2131272503</td>\n",
       "      <td>「 每个人的青春都有一个任贤齐」</td>\n",
       "      <td>经典</td>\n",
       "    </tr>\n",
       "    <tr>\n",
       "      <th>3</th>\n",
       "      <td>81033783</td>\n",
       "      <td>410293251</td>\n",
       "      <td>粤语陈奕迅 .</td>\n",
       "      <td>粤语</td>\n",
       "    </tr>\n",
       "    <tr>\n",
       "      <th>4</th>\n",
       "      <td>54749156</td>\n",
       "      <td>77497542</td>\n",
       "      <td>健身房节奏! 烧脂</td>\n",
       "      <td>欧美</td>\n",
       "    </tr>\n",
       "  </tbody>\n",
       "</table>\n",
       "</div>"
      ],
      "text/plain": [
       "    user_id playlist_id     playlist_name tag_name\n",
       "0  18114912  2131272503  「 每个人的青春都有一个任贤齐」       华语\n",
       "1  18114912  2131272503  「 每个人的青春都有一个任贤齐」       流行\n",
       "2  18114912  2131272503  「 每个人的青春都有一个任贤齐」       经典\n",
       "3  81033783   410293251           粤语陈奕迅 .       粤语\n",
       "4  54749156    77497542         健身房节奏! 烧脂       欧美"
      ]
     },
     "execution_count": 6,
     "metadata": {},
     "output_type": "execute_result"
    }
   ],
   "source": [
    "play_list.head()"
   ]
  },
  {
   "cell_type": "code",
   "execution_count": 8,
   "metadata": {},
   "outputs": [
    {
     "name": "stdout",
     "output_type": "stream",
     "text": [
      "<class 'pandas.core.frame.DataFrame'>\n",
      "RangeIndex: 19957 entries, 0 to 19956\n",
      "Data columns (total 4 columns):\n",
      " #   Column         Non-Null Count  Dtype \n",
      "---  ------         --------------  ----- \n",
      " 0   user_id        19957 non-null  int64 \n",
      " 1   playlist_id    19957 non-null  object\n",
      " 2   playlist_name  19957 non-null  object\n",
      " 3   tag_name       19951 non-null  object\n",
      "dtypes: int64(1), object(3)\n",
      "memory usage: 623.8+ KB\n"
     ]
    }
   ],
   "source": [
    "play_list.info()"
   ]
  },
  {
   "cell_type": "markdown",
   "metadata": {},
   "source": [
    "~~favourite_list = pd.read_csv('favourite_list.csv')~~\n",
    "\n",
    "当直接使用pd.read_csv喜欢列表的时候，line 355914行出现了问题，它的song_name出错了。\n",
    "所以我们拆分成两个dataframe再合起来"
   ]
  },
  {
   "cell_type": "code",
   "execution_count": 39,
   "metadata": {},
   "outputs": [],
   "source": [
    "# favourite_list = pd.read_csv('favourite_list.csv',skiprows=340000,nrows=30000)\n",
    "favourite_list_1 = pd.read_csv('favourite_list.csv',nrows=355912)\n"
   ]
  },
  {
   "cell_type": "code",
   "execution_count": 43,
   "metadata": {},
   "outputs": [
    {
     "data": {
      "text/html": [
       "<div>\n",
       "<style scoped>\n",
       "    .dataframe tbody tr th:only-of-type {\n",
       "        vertical-align: middle;\n",
       "    }\n",
       "\n",
       "    .dataframe tbody tr th {\n",
       "        vertical-align: top;\n",
       "    }\n",
       "\n",
       "    .dataframe thead th {\n",
       "        text-align: right;\n",
       "    }\n",
       "</style>\n",
       "<table border=\"1\" class=\"dataframe\">\n",
       "  <thead>\n",
       "    <tr style=\"text-align: right;\">\n",
       "      <th></th>\n",
       "      <th>user_id</th>\n",
       "      <th>playlist_id</th>\n",
       "      <th>playlist_name</th>\n",
       "      <th>song_id</th>\n",
       "      <th>song_name</th>\n",
       "      <th>song_tag</th>\n",
       "      <th>tag_count</th>\n",
       "    </tr>\n",
       "  </thead>\n",
       "  <tbody>\n",
       "    <tr>\n",
       "      <th>29995</th>\n",
       "      <td>395510767</td>\n",
       "      <td>134018637</td>\n",
       "      <td>黄诗扶喜欢的音乐</td>\n",
       "      <td>5027096</td>\n",
       "      <td>Playing Love</td>\n",
       "      <td>放松</td>\n",
       "      <td>2</td>\n",
       "    </tr>\n",
       "    <tr>\n",
       "      <th>29996</th>\n",
       "      <td>395510767</td>\n",
       "      <td>134018637</td>\n",
       "      <td>黄诗扶喜欢的音乐</td>\n",
       "      <td>5027096</td>\n",
       "      <td>Playing Love</td>\n",
       "      <td>清新</td>\n",
       "      <td>1</td>\n",
       "    </tr>\n",
       "    <tr>\n",
       "      <th>29997</th>\n",
       "      <td>395510767</td>\n",
       "      <td>134018637</td>\n",
       "      <td>黄诗扶喜欢的音乐</td>\n",
       "      <td>5027096</td>\n",
       "      <td>Playing Love</td>\n",
       "      <td>轻音乐</td>\n",
       "      <td>1</td>\n",
       "    </tr>\n",
       "    <tr>\n",
       "      <th>29998</th>\n",
       "      <td>395510767</td>\n",
       "      <td>134018637</td>\n",
       "      <td>黄诗扶喜欢的音乐</td>\n",
       "      <td>503127217</td>\n",
       "      <td>云长</td>\n",
       "      <td>华语</td>\n",
       "      <td>1</td>\n",
       "    </tr>\n",
       "    <tr>\n",
       "      <th>29999</th>\n",
       "      <td>395510767</td>\n",
       "      <td>134018637</td>\n",
       "      <td>黄诗扶喜欢的音乐</td>\n",
       "      <td>503127217</td>\n",
       "      <td>云长</td>\n",
       "      <td>古风</td>\n",
       "      <td>2</td>\n",
       "    </tr>\n",
       "  </tbody>\n",
       "</table>\n",
       "</div>"
      ],
      "text/plain": [
       "         user_id  playlist_id playlist_name    song_id     song_name song_tag  \\\n",
       "29995  395510767    134018637      黄诗扶喜欢的音乐    5027096  Playing Love       放松   \n",
       "29996  395510767    134018637      黄诗扶喜欢的音乐    5027096  Playing Love       清新   \n",
       "29997  395510767    134018637      黄诗扶喜欢的音乐    5027096  Playing Love      轻音乐   \n",
       "29998  395510767    134018637      黄诗扶喜欢的音乐  503127217            云长       华语   \n",
       "29999  395510767    134018637      黄诗扶喜欢的音乐  503127217            云长       古风   \n",
       "\n",
       "      tag_count  \n",
       "29995         2  \n",
       "29996         1  \n",
       "29997         1  \n",
       "29998         1  \n",
       "29999         2  "
      ]
     },
     "execution_count": 43,
     "metadata": {},
     "output_type": "execute_result"
    }
   ],
   "source": [
    "favourite_list_1.tail()"
   ]
  },
  {
   "cell_type": "code",
   "execution_count": 54,
   "metadata": {},
   "outputs": [],
   "source": [
    "favourite_list_2 = pd.read_csv('favourite_list.csv',skiprows=355914,header=None,names=['user_id','playlist_id','playlist_name','song_id\t','song_name','tag_count'])\n"
   ]
  },
  {
   "cell_type": "code",
   "execution_count": 55,
   "metadata": {},
   "outputs": [
    {
     "data": {
      "text/html": [
       "<div>\n",
       "<style scoped>\n",
       "    .dataframe tbody tr th:only-of-type {\n",
       "        vertical-align: middle;\n",
       "    }\n",
       "\n",
       "    .dataframe tbody tr th {\n",
       "        vertical-align: top;\n",
       "    }\n",
       "\n",
       "    .dataframe thead th {\n",
       "        text-align: right;\n",
       "    }\n",
       "</style>\n",
       "<table border=\"1\" class=\"dataframe\">\n",
       "  <thead>\n",
       "    <tr style=\"text-align: right;\">\n",
       "      <th></th>\n",
       "      <th>user_id</th>\n",
       "      <th>playlist_id</th>\n",
       "      <th>playlist_name</th>\n",
       "      <th>song_id\\t</th>\n",
       "      <th>song_name</th>\n",
       "      <th>tag_count</th>\n",
       "    </tr>\n",
       "  </thead>\n",
       "  <tbody>\n",
       "    <tr>\n",
       "      <th>575288905</th>\n",
       "      <td>893993465</td>\n",
       "      <td>若小城依稀喜欢的音乐</td>\n",
       "      <td>146136</td>\n",
       "      <td>初恋のきた道</td>\n",
       "      <td>\\N</td>\n",
       "      <td>\\N</td>\n",
       "    </tr>\n",
       "    <tr>\n",
       "      <th>575288905</th>\n",
       "      <td>893993465</td>\n",
       "      <td>若小城依稀喜欢的音乐</td>\n",
       "      <td>147030</td>\n",
       "      <td>爱的故事(上)</td>\n",
       "      <td>90后</td>\n",
       "      <td>1</td>\n",
       "    </tr>\n",
       "    <tr>\n",
       "      <th>575288905</th>\n",
       "      <td>893993465</td>\n",
       "      <td>若小城依稀喜欢的音乐</td>\n",
       "      <td>147030</td>\n",
       "      <td>爱的故事(上)</td>\n",
       "      <td>华语</td>\n",
       "      <td>1</td>\n",
       "    </tr>\n",
       "    <tr>\n",
       "      <th>575288905</th>\n",
       "      <td>893993465</td>\n",
       "      <td>若小城依稀喜欢的音乐</td>\n",
       "      <td>147030</td>\n",
       "      <td>爱的故事(上)</td>\n",
       "      <td>怀旧</td>\n",
       "      <td>1</td>\n",
       "    </tr>\n",
       "    <tr>\n",
       "      <th>575288905</th>\n",
       "      <td>893993465</td>\n",
       "      <td>若小城依稀喜欢的音乐</td>\n",
       "      <td>147030</td>\n",
       "      <td>爱的故事(上)</td>\n",
       "      <td>感动</td>\n",
       "      <td>2</td>\n",
       "    </tr>\n",
       "  </tbody>\n",
       "</table>\n",
       "</div>"
      ],
      "text/plain": [
       "             user_id playlist_id playlist_name song_id\\t song_name tag_count\n",
       "575288905  893993465  若小城依稀喜欢的音乐        146136    初恋のきた道        \\N        \\N\n",
       "575288905  893993465  若小城依稀喜欢的音乐        147030   爱的故事(上)       90后         1\n",
       "575288905  893993465  若小城依稀喜欢的音乐        147030   爱的故事(上)        华语         1\n",
       "575288905  893993465  若小城依稀喜欢的音乐        147030   爱的故事(上)        怀旧         1\n",
       "575288905  893993465  若小城依稀喜欢的音乐        147030   爱的故事(上)        感动         2"
      ]
     },
     "execution_count": 55,
     "metadata": {},
     "output_type": "execute_result"
    }
   ],
   "source": [
    "favourite_list_2.head()"
   ]
  },
  {
   "cell_type": "code",
   "execution_count": 56,
   "metadata": {},
   "outputs": [
    {
     "name": "stdout",
     "output_type": "stream",
     "text": [
      "<class 'pandas.core.frame.DataFrame'>\n",
      "RangeIndex: 430928 entries, 0 to 430927\n",
      "Data columns (total 8 columns):\n",
      " #   Column         Non-Null Count   Dtype \n",
      "---  ------         --------------   ----- \n",
      " 0   user_id        430928 non-null  int64 \n",
      " 1   playlist_id    430928 non-null  object\n",
      " 2   playlist_name  430928 non-null  object\n",
      " 3   song_id        355912 non-null  object\n",
      " 4   song_name      430466 non-null  object\n",
      " 5   song_tag       355912 non-null  object\n",
      " 6   tag_count      430928 non-null  object\n",
      " 7   song_id\t       74928 non-null   object\n",
      "dtypes: int64(1), object(7)\n",
      "memory usage: 26.3+ MB\n"
     ]
    }
   ],
   "source": [
    "favourite_list=favourite_list_1.append(favourite_list_2,ignore_index=True)\n",
    "favourite_list.info()"
   ]
  }
 ],
 "metadata": {
  "kernelspec": {
   "display_name": "Python 3.7.3 64-bit ('ml': virtualenv)",
   "language": "python",
   "name": "python37364bitmlvirtualenv3c233f2dad5e47f3966a23cf7a0a6f3c"
  },
  "language_info": {
   "codemirror_mode": {
    "name": "ipython",
    "version": 3
   },
   "file_extension": ".py",
   "mimetype": "text/x-python",
   "name": "python",
   "nbconvert_exporter": "python",
   "pygments_lexer": "ipython3",
   "version": "3.7.3"
  }
 },
 "nbformat": 4,
 "nbformat_minor": 2
}
